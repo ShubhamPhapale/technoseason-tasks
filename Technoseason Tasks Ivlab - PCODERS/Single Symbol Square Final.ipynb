{
 "cells": [
  {
   "cell_type": "code",
   "execution_count": 1,
   "id": "73e6a189",
   "metadata": {},
   "outputs": [
    {
     "name": "stdout",
     "output_type": "stream",
     "text": [
      "7\n",
      "X O X O O X O \n",
      "\n",
      "O X O O X X O \n",
      "\n",
      "O X X O X O X \n",
      "\n",
      "O O X X X O X \n",
      "\n",
      "X O O X O X X \n",
      "\n",
      "X X O O O O X \n",
      "\n",
      "O O X X X O O \n",
      "\n"
     ]
    }
   ],
   "source": [
    "#importing required libraries\n",
    "\n",
    "import numpy as np\n",
    "\n",
    "N = int(input())\n",
    "\n",
    "arr = np.array([['O']*N]*N)\n",
    "\n",
    "#print(arr)\n",
    "\n",
    "#Defining functions\n",
    "\n",
    "def fourequalnum(a,b,c,d):\n",
    "    if a != b:\n",
    "        return False\n",
    "    elif a != c:\n",
    "        return False\n",
    "    elif a != d:\n",
    "        return False\n",
    "    elif b != c:\n",
    "        return False\n",
    "    elif b != d:\n",
    "        return False\n",
    "    elif c != d:\n",
    "        return False\n",
    "    else:\n",
    "        return True\n",
    "    \n",
    "def opposite(a):#For taking symbol opposit to a\n",
    "    if a == 'O':\n",
    "        return 'X'\n",
    "    else:\n",
    "        return 'O'\n",
    "    \n",
    "for _ in range(0,100):#Using four n\n",
    "    for x in range(0,N):\n",
    "        for y in range(0,N):\n",
    "            for i in range(0,N):\n",
    "                if not((x-i)<0 or (y-i)<0):\n",
    "                    if fourequalnum(arr[x][y], arr[x-i][y], arr[x][y-i], arr[x-i][y-i]):\n",
    "                        arr[x][y] = opposite(arr[x][y])\n",
    "                if not((x-i)<0 or (y+i)>=N):\n",
    "                    if fourequalnum(arr[x][y], arr[x-i][y], arr[x][y+i], arr[x-i][y+i]):\n",
    "                        arr[x][y] = opposite(arr[x][y])\n",
    "                if not((x+i)>=N or (y-i)<0):\n",
    "                    if fourequalnum(arr[x][y], arr[x+i][y], arr[x][y-i], arr[x+i][y-i]):\n",
    "                        arr[x][y] = opposite(arr[x][y])\n",
    "                if not((x+i)>=N or (y+i)>=N):\n",
    "                    if fourequalnum(arr[x][y], arr[x+i][y], arr[x][y+i], arr[x+i][y+i]):\n",
    "                        arr[x][y] = opposite(arr[x][y])\n",
    "\n",
    "#Printing the output\n",
    "\n",
    "for i in range(0,N):\n",
    "    for j in range(0,N):\n",
    "        print(arr[i][j], end=' ')\n",
    "    print(\"\\n\")"
   ]
  },
  {
   "cell_type": "code",
   "execution_count": null,
   "id": "b291b81e",
   "metadata": {},
   "outputs": [],
   "source": []
  }
 ],
 "metadata": {
  "kernelspec": {
   "display_name": "Python 3 (ipykernel)",
   "language": "python",
   "name": "python3"
  },
  "language_info": {
   "codemirror_mode": {
    "name": "ipython",
    "version": 3
   },
   "file_extension": ".py",
   "mimetype": "text/x-python",
   "name": "python",
   "nbconvert_exporter": "python",
   "pygments_lexer": "ipython3",
   "version": "3.9.7"
  }
 },
 "nbformat": 4,
 "nbformat_minor": 5
}
